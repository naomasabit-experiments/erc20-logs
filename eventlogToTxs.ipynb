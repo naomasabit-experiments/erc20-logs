{
 "cells": [
  {
   "cell_type": "code",
   "execution_count": 57,
   "metadata": {
    "collapsed": true
   },
   "outputs": [],
   "source": [
    "#coding:utf-8\n",
    "import json\n",
    "import pandas as pd"
   ]
  },
  {
   "cell_type": "code",
   "execution_count": 58,
   "metadata": {
    "collapsed": false
   },
   "outputs": [],
   "source": [
    "def extract_vals(results):\n",
    "    ret = []\n",
    "    for result in results:\n",
    "        tmp = []\n",
    "        tmp.append(result['transactionHash'])\n",
    "        tmp.append(int(result['blockNumber'],16))\n",
    "        tmp.append(hex(int(result['topics'][1],16))) # from_address 0x0...と0が続くのであえて一度hex変換でフォーマットしている\n",
    "        tmp.append(hex(int(result['topics'][2],16))) # to_address \n",
    "        tmp.append(int(result['data'],16) / (10**18)) # value BEC は18桁なので10の18乗で割る\n",
    "        ret.append(tmp) \n",
    "    return ret"
   ]
  },
  {
   "cell_type": "code",
   "execution_count": 60,
   "metadata": {
    "collapsed": false
   },
   "outputs": [],
   "source": [
    "def main():\n",
    "    f = open('event_logs.json', 'r')\n",
    "    json_data = json.load(f)\n",
    "    f.close()\n",
    "    txs = extract_vals(json_data['result'])\n",
    "    df = pd.DataFrame(txs,columns=['transactionHash','blockNumber','from','to','data'])\n",
    "    df.to_csv('txs.csv',index=False)"
   ]
  },
  {
   "cell_type": "code",
   "execution_count": 61,
   "metadata": {
    "collapsed": true
   },
   "outputs": [],
   "source": [
    "main()"
   ]
  }
 ],
 "metadata": {
  "kernelspec": {
   "display_name": "Python 3",
   "language": "python",
   "name": "python3"
  },
  "language_info": {
   "codemirror_mode": {
    "name": "ipython",
    "version": 3
   },
   "file_extension": ".py",
   "mimetype": "text/x-python",
   "name": "python",
   "nbconvert_exporter": "python",
   "pygments_lexer": "ipython3",
   "version": "3.6.0"
  }
 },
 "nbformat": 4,
 "nbformat_minor": 2
}
